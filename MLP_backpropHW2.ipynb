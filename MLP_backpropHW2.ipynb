{
 "cells": [
  {
   "cell_type": "code",
   "execution_count": 4,
   "metadata": {},
   "outputs": [
    {
     "name": "stdout",
     "output_type": "stream",
     "text": [
      "(200, 784)\n",
      "(200,)\n",
      "(100, 200)\n",
      "(100,)\n",
      "(10, 100)\n",
      "(10,)\n"
     ]
    }
   ],
   "source": [
    "import numpy as np\n",
    "import h5py\n",
    "filename = 'mnist_network_params.hdf5'\n",
    "hf = h5py.File(filename)\n",
    "W1 = hf.get('W1')\n",
    "W1 = np.array(W1)\n",
    "W2 = hf.get('W2')\n",
    "W2 = np.array(W2)\n",
    "W3 = hf.get('W3')\n",
    "W3 = np.array(W3)\n",
    "b1 = hf.get('b1')\n",
    "b1 = np.array(b1)\n",
    "b2 = hf.get('b2')\n",
    "b2 = np.array(b2)\n",
    "b3 = hf.get('b3')\n",
    "b3 = np.array(b3)\n",
    "print(W1.shape)\n",
    "print(b1.shape)\n",
    "print(W2.shape)\n",
    "print(b2.shape)\n",
    "print(W3.shape)\n",
    "print(b3.shape)\n",
    "\n"
   ]
  },
  {
   "cell_type": "code",
   "execution_count": 2,
   "metadata": {},
   "outputs": [
    {
     "name": "stdout",
     "output_type": "stream",
     "text": [
      "[0. 0. 0. 0. 0. 0. 0. 1. 0. 0.]\n",
      "(10000, 784)\n",
      "(10000, 10)\n"
     ]
    }
   ],
   "source": [
    "hf2 = h5py.File('mnist_testdata.hdf5')\n",
    "xdata = hf2.get('xdata')\n",
    "ydata = hf2.get('ydata')\n",
    "xdataNP = np.array(xdata)\n",
    "ydataNP = np.array(ydata)\n",
    "print(ydataNP[0])\n",
    "print(xdataNP.shape)\n",
    "print(ydataNP.shape)"
   ]
  },
  {
   "cell_type": "code",
   "execution_count": 5,
   "metadata": {},
   "outputs": [],
   "source": [
    "def ReLu(x):\n",
    "    ndarray = np.zeros((len(x),len(x[0])))\n",
    "    for i in range(0,len(x)):\n",
    "        for j in range(0,len(x[0])):\n",
    "            ndarray[i][j] = max(0,x[i][j])\n",
    "    return ndarray\n",
    "\n",
    "def Softmax(x):\n",
    "    return np.exp(x)/np.sum(np.exp(x))\n",
    "    \n",
    "    "
   ]
  },
  {
   "cell_type": "code",
   "execution_count": 10,
   "metadata": {
    "scrolled": true
   },
   "outputs": [
    {
     "name": "stdout",
     "output_type": "stream",
     "text": [
      "(10000, 200)\n",
      "(10000, 100)\n",
      "[[9.25181849e-19 4.04327472e-19 3.54257605e-16 ... 3.78148031e-10\n",
      "  1.43722407e-18 1.06333213e-16]\n",
      " [1.42473978e-19 9.53308073e-16 2.02275260e-09 ... 2.74492786e-22\n",
      "  3.31070530e-16 3.56077547e-28]\n",
      " [9.58279175e-20 4.98189216e-14 4.75359071e-18 ... 7.04343136e-18\n",
      "  1.97228316e-17 2.84790992e-20]\n",
      " ...\n",
      " [5.55454188e-21 5.44158960e-21 6.31236237e-22 ... 8.99521567e-17\n",
      "  3.79159091e-18 1.53553606e-14]\n",
      " [1.23037617e-19 5.65202311e-21 7.27927274e-23 ... 1.17235606e-20\n",
      "  9.25962380e-14 1.37808733e-20]\n",
      " [2.16943900e-17 1.42841464e-20 9.26066218e-18 ... 5.13946169e-26\n",
      "  6.37109267e-20 4.98149429e-21]]\n",
      "(10000, 10)\n",
      "(10000, 10)\n"
     ]
    }
   ],
   "source": [
    "Wt = np.transpose(W1)\n",
    "bt = np.transpose(b1)\n",
    "eq = np.dot(xdataNP,Wt) + bt\n",
    "output1 = ReLu(eq)\n",
    "print(output1.shape)\n",
    "Wt2 = np.transpose(W2)\n",
    "bt2 = np.transpose(b2)\n",
    "eq2 = np.dot(output1,Wt2)+bt2\n",
    "output2 = ReLu(eq2)\n",
    "print(output2.shape)\n",
    "Wt3 = np.transpose(W3)\n",
    "bt3 = np.transpose(b3)\n",
    "eq3 = np.dot(output2,Wt3)+bt3\n",
    "output3 = Softmax(eq3)\n",
    "print(output3)\n",
    "print(output3.shape)\n",
    "print(ydata.shape)"
   ]
  },
  {
   "cell_type": "code",
   "execution_count": 8,
   "metadata": {},
   "outputs": [
    {
     "name": "stdout",
     "output_type": "stream",
     "text": [
      "9790\n"
     ]
    }
   ],
   "source": [
    "res = 0\n",
    "for i in range(0,len(output3)):\n",
    "    result = np.where(output3[i] == np.max(output3[i]))\n",
    "    if result == np.where(ydataNP[i]==1):\n",
    "        res += 1\n",
    "print(res)"
   ]
  },
  {
   "cell_type": "code",
   "execution_count": 28,
   "metadata": {},
   "outputs": [
    {
     "name": "stdout",
     "output_type": "stream",
     "text": [
      "match start\n"
     ]
    },
    {
     "data": {
      "image/png": "[encoded data removed]",
      "text/plain": [
       "<Figure size 432x288 with 1 Axes>"
      ]
     },
     "metadata": {},
     "output_type": "display_data"
    },
    {
     "data": {
      "image/png": "[encoded data removed]",
      "text/plain": [
       "<Figure size 432x288 with 1 Axes>"
      ]
     },
     "metadata": {},
     "output_type": "display_data"
    },
    {
     "data": {
      "image/png": "[encoded data removed]",
      "text/plain": [
       "<Figure size 432x288 with 1 Axes>"
      ]
     },
     "metadata": {},
     "output_type": "display_data"
    },
    {
     "name": "stdout",
     "output_type": "stream",
     "text": [
      "dismatch start\n"
     ]
    },
    {
     "data": {
      "image/png": "[encoded data removed]",
      "text/plain": [
       "<Figure size 432x288 with 1 Axes>"
      ]
     },
     "metadata": {},
     "output_type": "display_data"
    },
    {
     "data": {
      "image/png": "[encoded data removed]",
      "text/plain": [
       "<Figure size 432x288 with 1 Axes>"
      ]
     },
     "metadata": {},
     "output_type": "display_data"
    },
    {
     "data": {
      "image/png": "[encoded data removed]",
      "text/plain": [
       "<Figure size 432x288 with 1 Axes>"
      ]
     },
     "metadata": {},
     "output_type": "display_data"
    }
   ],
   "source": [
    "import matplotlib.pyplot as plt\n",
    "print('match start')\n",
    "count = 0\n",
    "for i in range(0,len(output3)):\n",
    "    matchres = np.where(output3[i] == np.max(output3[i]))\n",
    "    if matchres == np.where(ydataNP[i]==1):\n",
    "        plt.imshow(xdata[i].reshape(28,28))\n",
    "        plt.show()\n",
    "        count +=1\n",
    "        if count==3:\n",
    "            break\n",
    "        else:\n",
    "            continue\n",
    "\n",
    "print('dismatch start')\n",
    "discount =0\n",
    "for i in range(0,len(output3)):\n",
    "    dismatchres = np.where(output3[i] == np.max(output3[i]))\n",
    "    if dismatchres != np.where(ydataNP[i]==1):\n",
    "        plt.imshow(xdata[i].reshape(28,28))\n",
    "        plt.show()\n",
    "        discount +=1\n",
    "        if discount == 3:\n",
    "            break\n",
    "        else:\n",
    "            continue       \n"
   ]
  },
  {
   "cell_type": "code",
   "execution_count": null,
   "metadata": {},
   "outputs": [],
   "source": []
  }
 ],
 "metadata": {
  "kernelspec": {
   "display_name": "Python 3",
   "language": "python",
   "name": "python3"
  },
  "language_info": {
   "codemirror_mode": {
    "name": "ipython",
    "version": 3
   },
   "file_extension": ".py",
   "mimetype": "text/x-python",
   "name": "python",
   "nbconvert_exporter": "python",
   "pygments_lexer": "ipython3",
   "version": "3.7.4"
  }
 },
 "nbformat": 4,
 "nbformat_minor": 2
}
